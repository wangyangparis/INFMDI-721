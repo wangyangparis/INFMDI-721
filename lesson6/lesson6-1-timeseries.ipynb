{
 "cells": [
  {
   "cell_type": "markdown",
   "metadata": {},
   "source": [
    "## Time series\n",
    "- `pd.date_range()` (freq=[frequency string](https://pandas.pydata.org/pandas-docs/stable/user_guide/timeseries.html#offset-aliases))\n",
    "- `.loc[]`\n",
    "- `.asfreq()` (~ reindex avec un autre date_range)\n",
    "- `.resample()`\n",
    "  - downsampling (~ groupby) /!\\ label=\n",
    "  - upsampling  (~ asfreq)"
   ]
  },
  {
   "cell_type": "code",
   "execution_count": 1,
   "metadata": {
    "jupyter": {
     "source_hidden": true
    }
   },
   "outputs": [],
   "source": [
    "%matplotlib inline\n",
    "import matplotlib\n",
    "from matplotlib import pyplot as plt\n",
    "import seaborn as sns\n",
    "matplotlib.style.use('seaborn')\n",
    "sns.set(rc={'figure.figsize': (12, 7)})"
   ]
  },
  {
   "cell_type": "code",
   "execution_count": 25,
   "metadata": {},
   "outputs": [
    {
     "data": {
      "text/plain": [
       "DatetimeIndex(['2019-01-01', '2019-01-02', '2019-01-03', '2019-01-04',\n",
       "               '2019-01-05', '2019-01-06', '2019-01-07', '2019-01-08',\n",
       "               '2019-01-09', '2019-01-10', '2019-01-11', '2019-01-12',\n",
       "               '2019-01-13', '2019-01-14', '2019-01-15', '2019-01-16',\n",
       "               '2019-01-17', '2019-01-18', '2019-01-19', '2019-01-20',\n",
       "               '2019-01-21', '2019-01-22', '2019-01-23', '2019-01-24',\n",
       "               '2019-01-25', '2019-01-26', '2019-01-27', '2019-01-28',\n",
       "               '2019-01-29', '2019-01-30', '2019-01-31'],\n",
       "              dtype='datetime64[ns]', freq='D')"
      ]
     },
     "execution_count": 25,
     "metadata": {},
     "output_type": "execute_result"
    }
   ],
   "source": [
    "pd.date_range('2019-01-01', '2019-01-31', freq='D')"
   ]
  },
  {
   "cell_type": "code",
   "execution_count": null,
   "metadata": {},
   "outputs": [],
   "source": []
  },
  {
   "cell_type": "code",
   "execution_count": null,
   "metadata": {},
   "outputs": [],
   "source": []
  },
  {
   "cell_type": "code",
   "execution_count": null,
   "metadata": {},
   "outputs": [],
   "source": []
  },
  {
   "cell_type": "code",
   "execution_count": null,
   "metadata": {},
   "outputs": [],
   "source": []
  },
  {
   "cell_type": "code",
   "execution_count": null,
   "metadata": {},
   "outputs": [],
   "source": []
  },
  {
   "cell_type": "code",
   "execution_count": null,
   "metadata": {},
   "outputs": [],
   "source": []
  },
  {
   "cell_type": "code",
   "execution_count": 31,
   "metadata": {},
   "outputs": [],
   "source": [
    "df = pd.DataFrame({'x': range(200)}, \n",
    "                  index=pd.date_range('2018-12-20', periods=200, freq='B'))"
   ]
  },
  {
   "cell_type": "code",
   "execution_count": null,
   "metadata": {},
   "outputs": [],
   "source": []
  },
  {
   "cell_type": "code",
   "execution_count": null,
   "metadata": {},
   "outputs": [],
   "source": []
  },
  {
   "cell_type": "code",
   "execution_count": null,
   "metadata": {},
   "outputs": [],
   "source": []
  },
  {
   "cell_type": "code",
   "execution_count": null,
   "metadata": {},
   "outputs": [],
   "source": []
  },
  {
   "cell_type": "code",
   "execution_count": null,
   "metadata": {},
   "outputs": [],
   "source": []
  },
  {
   "cell_type": "markdown",
   "metadata": {},
   "source": []
  },
  {
   "cell_type": "markdown",
   "metadata": {},
   "source": [
    "- `.shift()` et calcul d'évolution"
   ]
  },
  {
   "cell_type": "code",
   "execution_count": 50,
   "metadata": {},
   "outputs": [],
   "source": [
    "df2 = pd.DataFrame({'x': range(1, 13)}, \n",
    "                   index=pd.date_range('2018-12-20', freq='B', periods=12))"
   ]
  },
  {
   "cell_type": "code",
   "execution_count": 51,
   "metadata": {},
   "outputs": [
    {
     "data": {
      "text/html": [
       "<div>\n",
       "<style scoped>\n",
       "    .dataframe tbody tr th:only-of-type {\n",
       "        vertical-align: middle;\n",
       "    }\n",
       "\n",
       "    .dataframe tbody tr th {\n",
       "        vertical-align: top;\n",
       "    }\n",
       "\n",
       "    .dataframe thead th {\n",
       "        text-align: right;\n",
       "    }\n",
       "</style>\n",
       "<table border=\"1\" class=\"dataframe\">\n",
       "  <thead>\n",
       "    <tr style=\"text-align: right;\">\n",
       "      <th></th>\n",
       "      <th>x</th>\n",
       "    </tr>\n",
       "  </thead>\n",
       "  <tbody>\n",
       "    <tr>\n",
       "      <td>2018-12-20</td>\n",
       "      <td>1</td>\n",
       "    </tr>\n",
       "    <tr>\n",
       "      <td>2018-12-21</td>\n",
       "      <td>2</td>\n",
       "    </tr>\n",
       "    <tr>\n",
       "      <td>2018-12-24</td>\n",
       "      <td>3</td>\n",
       "    </tr>\n",
       "    <tr>\n",
       "      <td>2018-12-25</td>\n",
       "      <td>4</td>\n",
       "    </tr>\n",
       "    <tr>\n",
       "      <td>2018-12-26</td>\n",
       "      <td>5</td>\n",
       "    </tr>\n",
       "    <tr>\n",
       "      <td>2018-12-27</td>\n",
       "      <td>6</td>\n",
       "    </tr>\n",
       "    <tr>\n",
       "      <td>2018-12-28</td>\n",
       "      <td>7</td>\n",
       "    </tr>\n",
       "    <tr>\n",
       "      <td>2018-12-31</td>\n",
       "      <td>8</td>\n",
       "    </tr>\n",
       "    <tr>\n",
       "      <td>2019-01-01</td>\n",
       "      <td>9</td>\n",
       "    </tr>\n",
       "    <tr>\n",
       "      <td>2019-01-02</td>\n",
       "      <td>10</td>\n",
       "    </tr>\n",
       "    <tr>\n",
       "      <td>2019-01-03</td>\n",
       "      <td>11</td>\n",
       "    </tr>\n",
       "    <tr>\n",
       "      <td>2019-01-04</td>\n",
       "      <td>12</td>\n",
       "    </tr>\n",
       "  </tbody>\n",
       "</table>\n",
       "</div>"
      ],
      "text/plain": [
       "             x\n",
       "2018-12-20   1\n",
       "2018-12-21   2\n",
       "2018-12-24   3\n",
       "2018-12-25   4\n",
       "2018-12-26   5\n",
       "2018-12-27   6\n",
       "2018-12-28   7\n",
       "2018-12-31   8\n",
       "2019-01-01   9\n",
       "2019-01-02  10\n",
       "2019-01-03  11\n",
       "2019-01-04  12"
      ]
     },
     "execution_count": 51,
     "metadata": {},
     "output_type": "execute_result"
    }
   ],
   "source": [
    "df2"
   ]
  },
  {
   "cell_type": "code",
   "execution_count": 57,
   "metadata": {},
   "outputs": [
    {
     "data": {
      "text/plain": [
       "2018-12-20         NaN\n",
       "2018-12-21    2.000000\n",
       "2018-12-24    1.500000\n",
       "2018-12-25    1.333333\n",
       "2018-12-26    1.250000\n",
       "2018-12-27    1.200000\n",
       "2018-12-28    1.166667\n",
       "2018-12-31    1.142857\n",
       "2019-01-01    1.125000\n",
       "2019-01-02    1.111111\n",
       "2019-01-03    1.100000\n",
       "2019-01-04    1.090909\n",
       "Freq: B, Name: x, dtype: float64"
      ]
     },
     "execution_count": 57,
     "metadata": {},
     "output_type": "execute_result"
    }
   ],
   "source": [
    "df2.x / df2.shift().x"
   ]
  },
  {
   "cell_type": "code",
   "execution_count": 56,
   "metadata": {},
   "outputs": [
    {
     "data": {
      "text/html": [
       "<div>\n",
       "<style scoped>\n",
       "    .dataframe tbody tr th:only-of-type {\n",
       "        vertical-align: middle;\n",
       "    }\n",
       "\n",
       "    .dataframe tbody tr th {\n",
       "        vertical-align: top;\n",
       "    }\n",
       "\n",
       "    .dataframe thead th {\n",
       "        text-align: right;\n",
       "    }\n",
       "</style>\n",
       "<table border=\"1\" class=\"dataframe\">\n",
       "  <thead>\n",
       "    <tr style=\"text-align: right;\">\n",
       "      <th></th>\n",
       "      <th>x</th>\n",
       "    </tr>\n",
       "  </thead>\n",
       "  <tbody>\n",
       "    <tr>\n",
       "      <td>2018-12-21</td>\n",
       "      <td>1</td>\n",
       "    </tr>\n",
       "    <tr>\n",
       "      <td>2018-12-22</td>\n",
       "      <td>2</td>\n",
       "    </tr>\n",
       "    <tr>\n",
       "      <td>2018-12-25</td>\n",
       "      <td>3</td>\n",
       "    </tr>\n",
       "    <tr>\n",
       "      <td>2018-12-26</td>\n",
       "      <td>4</td>\n",
       "    </tr>\n",
       "    <tr>\n",
       "      <td>2018-12-27</td>\n",
       "      <td>5</td>\n",
       "    </tr>\n",
       "    <tr>\n",
       "      <td>2018-12-28</td>\n",
       "      <td>6</td>\n",
       "    </tr>\n",
       "    <tr>\n",
       "      <td>2018-12-29</td>\n",
       "      <td>7</td>\n",
       "    </tr>\n",
       "    <tr>\n",
       "      <td>2019-01-01</td>\n",
       "      <td>8</td>\n",
       "    </tr>\n",
       "    <tr>\n",
       "      <td>2019-01-02</td>\n",
       "      <td>9</td>\n",
       "    </tr>\n",
       "    <tr>\n",
       "      <td>2019-01-03</td>\n",
       "      <td>10</td>\n",
       "    </tr>\n",
       "    <tr>\n",
       "      <td>2019-01-04</td>\n",
       "      <td>11</td>\n",
       "    </tr>\n",
       "    <tr>\n",
       "      <td>2019-01-05</td>\n",
       "      <td>12</td>\n",
       "    </tr>\n",
       "  </tbody>\n",
       "</table>\n",
       "</div>"
      ],
      "text/plain": [
       "             x\n",
       "2018-12-21   1\n",
       "2018-12-22   2\n",
       "2018-12-25   3\n",
       "2018-12-26   4\n",
       "2018-12-27   5\n",
       "2018-12-28   6\n",
       "2018-12-29   7\n",
       "2019-01-01   8\n",
       "2019-01-02   9\n",
       "2019-01-03  10\n",
       "2019-01-04  11\n",
       "2019-01-05  12"
      ]
     },
     "execution_count": 56,
     "metadata": {},
     "output_type": "execute_result"
    }
   ],
   "source": [
    "df2.shift(freq='D')"
   ]
  },
  {
   "cell_type": "code",
   "execution_count": null,
   "metadata": {},
   "outputs": [],
   "source": []
  },
  {
   "cell_type": "code",
   "execution_count": null,
   "metadata": {},
   "outputs": [],
   "source": []
  },
  {
   "cell_type": "code",
   "execution_count": null,
   "metadata": {},
   "outputs": [],
   "source": []
  },
  {
   "cell_type": "code",
   "execution_count": null,
   "metadata": {},
   "outputs": [],
   "source": []
  },
  {
   "cell_type": "markdown",
   "metadata": {},
   "source": [
    "Sans tenir compte des jours manquants:"
   ]
  },
  {
   "cell_type": "code",
   "execution_count": null,
   "metadata": {},
   "outputs": [],
   "source": []
  },
  {
   "cell_type": "code",
   "execution_count": null,
   "metadata": {},
   "outputs": [],
   "source": []
  },
  {
   "cell_type": "code",
   "execution_count": 5,
   "metadata": {},
   "outputs": [
    {
     "data": {
      "text/plain": [
       "2018-12-20         NaN\n",
       "2018-12-21    2.000000\n",
       "2018-12-24    1.500000\n",
       "2018-12-25    1.333333\n",
       "2018-12-26    1.250000\n",
       "2018-12-27    1.200000\n",
       "2018-12-28    1.166667\n",
       "2018-12-31    1.142857\n",
       "2019-01-01    1.125000\n",
       "2019-01-02    1.111111\n",
       "2019-01-03    1.100000\n",
       "2019-01-04    1.090909\n",
       "Freq: B, Name: x, dtype: float64"
      ]
     },
     "execution_count": 5,
     "metadata": {},
     "output_type": "execute_result"
    }
   ],
   "source": [
    "df2.x / df2.shift(1).x"
   ]
  },
  {
   "cell_type": "markdown",
   "metadata": {},
   "source": [
    "En tenant compte des jours manquants:"
   ]
  },
  {
   "cell_type": "code",
   "execution_count": null,
   "metadata": {},
   "outputs": [],
   "source": []
  },
  {
   "cell_type": "code",
   "execution_count": null,
   "metadata": {},
   "outputs": [],
   "source": []
  },
  {
   "cell_type": "code",
   "execution_count": 58,
   "metadata": {},
   "outputs": [],
   "source": [
    "joined = df2.join(df2.shift(1, freq='D'), lsuffix='_a', rsuffix='_b')\n"
   ]
  },
  {
   "cell_type": "code",
   "execution_count": 59,
   "metadata": {},
   "outputs": [
    {
     "data": {
      "text/html": [
       "<div>\n",
       "<style scoped>\n",
       "    .dataframe tbody tr th:only-of-type {\n",
       "        vertical-align: middle;\n",
       "    }\n",
       "\n",
       "    .dataframe tbody tr th {\n",
       "        vertical-align: top;\n",
       "    }\n",
       "\n",
       "    .dataframe thead th {\n",
       "        text-align: right;\n",
       "    }\n",
       "</style>\n",
       "<table border=\"1\" class=\"dataframe\">\n",
       "  <thead>\n",
       "    <tr style=\"text-align: right;\">\n",
       "      <th></th>\n",
       "      <th>x_a</th>\n",
       "      <th>x_b</th>\n",
       "    </tr>\n",
       "  </thead>\n",
       "  <tbody>\n",
       "    <tr>\n",
       "      <td>2018-12-20</td>\n",
       "      <td>1</td>\n",
       "      <td>NaN</td>\n",
       "    </tr>\n",
       "    <tr>\n",
       "      <td>2018-12-21</td>\n",
       "      <td>2</td>\n",
       "      <td>1.0</td>\n",
       "    </tr>\n",
       "    <tr>\n",
       "      <td>2018-12-24</td>\n",
       "      <td>3</td>\n",
       "      <td>NaN</td>\n",
       "    </tr>\n",
       "    <tr>\n",
       "      <td>2018-12-25</td>\n",
       "      <td>4</td>\n",
       "      <td>3.0</td>\n",
       "    </tr>\n",
       "    <tr>\n",
       "      <td>2018-12-26</td>\n",
       "      <td>5</td>\n",
       "      <td>4.0</td>\n",
       "    </tr>\n",
       "    <tr>\n",
       "      <td>2018-12-27</td>\n",
       "      <td>6</td>\n",
       "      <td>5.0</td>\n",
       "    </tr>\n",
       "    <tr>\n",
       "      <td>2018-12-28</td>\n",
       "      <td>7</td>\n",
       "      <td>6.0</td>\n",
       "    </tr>\n",
       "    <tr>\n",
       "      <td>2018-12-31</td>\n",
       "      <td>8</td>\n",
       "      <td>NaN</td>\n",
       "    </tr>\n",
       "    <tr>\n",
       "      <td>2019-01-01</td>\n",
       "      <td>9</td>\n",
       "      <td>8.0</td>\n",
       "    </tr>\n",
       "    <tr>\n",
       "      <td>2019-01-02</td>\n",
       "      <td>10</td>\n",
       "      <td>9.0</td>\n",
       "    </tr>\n",
       "    <tr>\n",
       "      <td>2019-01-03</td>\n",
       "      <td>11</td>\n",
       "      <td>10.0</td>\n",
       "    </tr>\n",
       "    <tr>\n",
       "      <td>2019-01-04</td>\n",
       "      <td>12</td>\n",
       "      <td>11.0</td>\n",
       "    </tr>\n",
       "  </tbody>\n",
       "</table>\n",
       "</div>"
      ],
      "text/plain": [
       "            x_a   x_b\n",
       "2018-12-20    1   NaN\n",
       "2018-12-21    2   1.0\n",
       "2018-12-24    3   NaN\n",
       "2018-12-25    4   3.0\n",
       "2018-12-26    5   4.0\n",
       "2018-12-27    6   5.0\n",
       "2018-12-28    7   6.0\n",
       "2018-12-31    8   NaN\n",
       "2019-01-01    9   8.0\n",
       "2019-01-02   10   9.0\n",
       "2019-01-03   11  10.0\n",
       "2019-01-04   12  11.0"
      ]
     },
     "execution_count": 59,
     "metadata": {},
     "output_type": "execute_result"
    }
   ],
   "source": [
    "joined"
   ]
  },
  {
   "cell_type": "code",
   "execution_count": 62,
   "metadata": {},
   "outputs": [],
   "source": [
    "df3 = df2.asfreq('D')"
   ]
  },
  {
   "cell_type": "code",
   "execution_count": 67,
   "metadata": {},
   "outputs": [
    {
     "data": {
      "text/plain": [
       "2018-12-20         NaN\n",
       "2018-12-21    2.000000\n",
       "2018-12-24         NaN\n",
       "2018-12-25    1.333333\n",
       "2018-12-26    1.250000\n",
       "2018-12-27    1.200000\n",
       "2018-12-28    1.166667\n",
       "2018-12-31         NaN\n",
       "2019-01-01    1.125000\n",
       "2019-01-02    1.111111\n",
       "2019-01-03    1.100000\n",
       "2019-01-04    1.090909\n",
       "Freq: B, Name: x, dtype: float64"
      ]
     },
     "execution_count": 67,
     "metadata": {},
     "output_type": "execute_result"
    }
   ],
   "source": [
    "(df3.x / df3.shift().x).reindex(df2.index)"
   ]
  },
  {
   "cell_type": "code",
   "execution_count": null,
   "metadata": {},
   "outputs": [],
   "source": []
  },
  {
   "cell_type": "code",
   "execution_count": null,
   "metadata": {},
   "outputs": [],
   "source": []
  },
  {
   "cell_type": "code",
   "execution_count": null,
   "metadata": {},
   "outputs": [],
   "source": []
  },
  {
   "cell_type": "code",
   "execution_count": null,
   "metadata": {},
   "outputs": [],
   "source": []
  },
  {
   "cell_type": "code",
   "execution_count": null,
   "metadata": {},
   "outputs": [],
   "source": []
  },
  {
   "cell_type": "code",
   "execution_count": null,
   "metadata": {},
   "outputs": [],
   "source": []
  },
  {
   "cell_type": "code",
   "execution_count": null,
   "metadata": {},
   "outputs": [],
   "source": []
  },
  {
   "cell_type": "code",
   "execution_count": null,
   "metadata": {},
   "outputs": [],
   "source": []
  },
  {
   "cell_type": "markdown",
   "metadata": {},
   "source": [
    "Autre manière: (avec asfreq)"
   ]
  },
  {
   "cell_type": "code",
   "execution_count": 7,
   "metadata": {},
   "outputs": [
    {
     "data": {
      "text/plain": [
       "2018-12-20         NaN\n",
       "2018-12-21    2.000000\n",
       "2018-12-24         NaN\n",
       "2018-12-25    1.333333\n",
       "2018-12-26    1.250000\n",
       "2018-12-27    1.200000\n",
       "2018-12-28    1.166667\n",
       "2018-12-31         NaN\n",
       "2019-01-01    1.125000\n",
       "2019-01-02    1.111111\n",
       "2019-01-03    1.100000\n",
       "2019-01-04    1.090909\n",
       "Freq: B, Name: x, dtype: float64"
      ]
     },
     "execution_count": 7,
     "metadata": {},
     "output_type": "execute_result"
    }
   ],
   "source": [
    "df3 = df2.asfreq('D')\n",
    "(df3.x / df3.shift(1).x).reindex(df2.index)"
   ]
  },
  {
   "cell_type": "code",
   "execution_count": null,
   "metadata": {},
   "outputs": [],
   "source": []
  },
  {
   "cell_type": "markdown",
   "metadata": {},
   "source": [
    "timezones (`.tz_localize()` / `.tz_convert()`)"
   ]
  },
  {
   "cell_type": "code",
   "execution_count": 68,
   "metadata": {},
   "outputs": [],
   "source": [
    "btc = pd.read_csv('./coinbase_btcusd.csv', skiprows=1)\n",
    "btc['Date'] = pd.to_datetime(btc.Date, format='%Y-%m-%d %I-%p')\n",
    "btc = btc[['Date', 'Close', 'High', 'Low']]\\\n",
    "      .rename(columns={'Date': 'date', 'Close': 'value'})\n",
    "btc = btc.set_index('date').sort_index()"
   ]
  },
  {
   "cell_type": "code",
   "execution_count": 69,
   "metadata": {},
   "outputs": [
    {
     "data": {
      "text/html": [
       "<div>\n",
       "<style scoped>\n",
       "    .dataframe tbody tr th:only-of-type {\n",
       "        vertical-align: middle;\n",
       "    }\n",
       "\n",
       "    .dataframe tbody tr th {\n",
       "        vertical-align: top;\n",
       "    }\n",
       "\n",
       "    .dataframe thead th {\n",
       "        text-align: right;\n",
       "    }\n",
       "</style>\n",
       "<table border=\"1\" class=\"dataframe\">\n",
       "  <thead>\n",
       "    <tr style=\"text-align: right;\">\n",
       "      <th></th>\n",
       "      <th>value</th>\n",
       "      <th>High</th>\n",
       "      <th>Low</th>\n",
       "    </tr>\n",
       "    <tr>\n",
       "      <th>date</th>\n",
       "      <th></th>\n",
       "      <th></th>\n",
       "      <th></th>\n",
       "    </tr>\n",
       "  </thead>\n",
       "  <tbody>\n",
       "    <tr>\n",
       "      <td>2017-07-01 11:00:00</td>\n",
       "      <td>2509.17</td>\n",
       "      <td>2513.38</td>\n",
       "      <td>2495.12</td>\n",
       "    </tr>\n",
       "    <tr>\n",
       "      <td>2017-07-01 12:00:00</td>\n",
       "      <td>2488.43</td>\n",
       "      <td>2512.87</td>\n",
       "      <td>2484.99</td>\n",
       "    </tr>\n",
       "    <tr>\n",
       "      <td>2017-07-01 13:00:00</td>\n",
       "      <td>2454.43</td>\n",
       "      <td>2488.43</td>\n",
       "      <td>2454.40</td>\n",
       "    </tr>\n",
       "    <tr>\n",
       "      <td>2017-07-01 14:00:00</td>\n",
       "      <td>2459.35</td>\n",
       "      <td>2473.93</td>\n",
       "      <td>2450.83</td>\n",
       "    </tr>\n",
       "    <tr>\n",
       "      <td>2017-07-01 15:00:00</td>\n",
       "      <td>2467.83</td>\n",
       "      <td>2475.00</td>\n",
       "      <td>2450.00</td>\n",
       "    </tr>\n",
       "  </tbody>\n",
       "</table>\n",
       "</div>"
      ],
      "text/plain": [
       "                       value     High      Low\n",
       "date                                          \n",
       "2017-07-01 11:00:00  2509.17  2513.38  2495.12\n",
       "2017-07-01 12:00:00  2488.43  2512.87  2484.99\n",
       "2017-07-01 13:00:00  2454.43  2488.43  2454.40\n",
       "2017-07-01 14:00:00  2459.35  2473.93  2450.83\n",
       "2017-07-01 15:00:00  2467.83  2475.00  2450.00"
      ]
     },
     "execution_count": 69,
     "metadata": {},
     "output_type": "execute_result"
    }
   ],
   "source": [
    "btc.head()"
   ]
  },
  {
   "cell_type": "code",
   "execution_count": 71,
   "metadata": {},
   "outputs": [
    {
     "data": {
      "text/html": [
       "<div>\n",
       "<style scoped>\n",
       "    .dataframe tbody tr th:only-of-type {\n",
       "        vertical-align: middle;\n",
       "    }\n",
       "\n",
       "    .dataframe tbody tr th {\n",
       "        vertical-align: top;\n",
       "    }\n",
       "\n",
       "    .dataframe thead th {\n",
       "        text-align: right;\n",
       "    }\n",
       "</style>\n",
       "<table border=\"1\" class=\"dataframe\">\n",
       "  <thead>\n",
       "    <tr style=\"text-align: right;\">\n",
       "      <th></th>\n",
       "      <th>value</th>\n",
       "      <th>High</th>\n",
       "      <th>Low</th>\n",
       "    </tr>\n",
       "    <tr>\n",
       "      <th>date</th>\n",
       "      <th></th>\n",
       "      <th></th>\n",
       "      <th></th>\n",
       "    </tr>\n",
       "  </thead>\n",
       "  <tbody>\n",
       "    <tr>\n",
       "      <td>2017-07-01 18:00:00+09:00</td>\n",
       "      <td>2509.17</td>\n",
       "      <td>2513.38</td>\n",
       "      <td>2495.12</td>\n",
       "    </tr>\n",
       "    <tr>\n",
       "      <td>2017-07-01 19:00:00+09:00</td>\n",
       "      <td>2488.43</td>\n",
       "      <td>2512.87</td>\n",
       "      <td>2484.99</td>\n",
       "    </tr>\n",
       "    <tr>\n",
       "      <td>2017-07-01 20:00:00+09:00</td>\n",
       "      <td>2454.43</td>\n",
       "      <td>2488.43</td>\n",
       "      <td>2454.40</td>\n",
       "    </tr>\n",
       "    <tr>\n",
       "      <td>2017-07-01 21:00:00+09:00</td>\n",
       "      <td>2459.35</td>\n",
       "      <td>2473.93</td>\n",
       "      <td>2450.83</td>\n",
       "    </tr>\n",
       "    <tr>\n",
       "      <td>2017-07-01 22:00:00+09:00</td>\n",
       "      <td>2467.83</td>\n",
       "      <td>2475.00</td>\n",
       "      <td>2450.00</td>\n",
       "    </tr>\n",
       "  </tbody>\n",
       "</table>\n",
       "</div>"
      ],
      "text/plain": [
       "                             value     High      Low\n",
       "date                                                \n",
       "2017-07-01 18:00:00+09:00  2509.17  2513.38  2495.12\n",
       "2017-07-01 19:00:00+09:00  2488.43  2512.87  2484.99\n",
       "2017-07-01 20:00:00+09:00  2454.43  2488.43  2454.40\n",
       "2017-07-01 21:00:00+09:00  2459.35  2473.93  2450.83\n",
       "2017-07-01 22:00:00+09:00  2467.83  2475.00  2450.00"
      ]
     },
     "execution_count": 71,
     "metadata": {},
     "output_type": "execute_result"
    }
   ],
   "source": [
    "btc.head().tz_localize('Europe/Paris').tz_convert('Asia/Tokyo')"
   ]
  },
  {
   "cell_type": "code",
   "execution_count": null,
   "metadata": {},
   "outputs": [],
   "source": []
  },
  {
   "cell_type": "code",
   "execution_count": null,
   "metadata": {},
   "outputs": [],
   "source": []
  },
  {
   "cell_type": "code",
   "execution_count": null,
   "metadata": {},
   "outputs": [],
   "source": []
  },
  {
   "cell_type": "code",
   "execution_count": null,
   "metadata": {},
   "outputs": [],
   "source": []
  },
  {
   "cell_type": "markdown",
   "metadata": {},
   "source": [
    "## Visualizing time series\n",
    "\n",
    "df.plot()"
   ]
  },
  {
   "cell_type": "code",
   "execution_count": 77,
   "metadata": {},
   "outputs": [],
   "source": [
    "%matplotlib inline\n",
    "import matplotlib\n",
    "from matplotlib import pyplot as plt\n",
    "import seaborn as sns\n",
    "matplotlib.style.use('seaborn')\n",
    "sns.set(rc={'figure.figsize': (12, 7)})"
   ]
  },
  {
   "cell_type": "code",
   "execution_count": 73,
   "metadata": {},
   "outputs": [],
   "source": [
    "btc = pd.read_csv('./coinbase_btcusd.csv', skiprows=1)\n",
    "btc['Date'] = pd.to_datetime(btc.Date, format='%Y-%m-%d %I-%p')\n",
    "btc = btc[['Date', 'Close', 'High', 'Low']]\\\n",
    "      .rename(columns={'Date': 'date', 'Close': 'value'})\n",
    "btc = btc.set_index('date').sort_index()"
   ]
  },
  {
   "cell_type": "code",
   "execution_count": 74,
   "metadata": {},
   "outputs": [
    {
     "data": {
      "text/html": [
       "<div>\n",
       "<style scoped>\n",
       "    .dataframe tbody tr th:only-of-type {\n",
       "        vertical-align: middle;\n",
       "    }\n",
       "\n",
       "    .dataframe tbody tr th {\n",
       "        vertical-align: top;\n",
       "    }\n",
       "\n",
       "    .dataframe thead th {\n",
       "        text-align: right;\n",
       "    }\n",
       "</style>\n",
       "<table border=\"1\" class=\"dataframe\">\n",
       "  <thead>\n",
       "    <tr style=\"text-align: right;\">\n",
       "      <th></th>\n",
       "      <th>value</th>\n",
       "      <th>High</th>\n",
       "      <th>Low</th>\n",
       "    </tr>\n",
       "    <tr>\n",
       "      <th>date</th>\n",
       "      <th></th>\n",
       "      <th></th>\n",
       "      <th></th>\n",
       "    </tr>\n",
       "  </thead>\n",
       "  <tbody>\n",
       "    <tr>\n",
       "      <td>2017-07-01 11:00:00</td>\n",
       "      <td>2509.17</td>\n",
       "      <td>2513.38</td>\n",
       "      <td>2495.12</td>\n",
       "    </tr>\n",
       "    <tr>\n",
       "      <td>2017-07-01 12:00:00</td>\n",
       "      <td>2488.43</td>\n",
       "      <td>2512.87</td>\n",
       "      <td>2484.99</td>\n",
       "    </tr>\n",
       "    <tr>\n",
       "      <td>2017-07-01 13:00:00</td>\n",
       "      <td>2454.43</td>\n",
       "      <td>2488.43</td>\n",
       "      <td>2454.40</td>\n",
       "    </tr>\n",
       "    <tr>\n",
       "      <td>2017-07-01 14:00:00</td>\n",
       "      <td>2459.35</td>\n",
       "      <td>2473.93</td>\n",
       "      <td>2450.83</td>\n",
       "    </tr>\n",
       "    <tr>\n",
       "      <td>2017-07-01 15:00:00</td>\n",
       "      <td>2467.83</td>\n",
       "      <td>2475.00</td>\n",
       "      <td>2450.00</td>\n",
       "    </tr>\n",
       "  </tbody>\n",
       "</table>\n",
       "</div>"
      ],
      "text/plain": [
       "                       value     High      Low\n",
       "date                                          \n",
       "2017-07-01 11:00:00  2509.17  2513.38  2495.12\n",
       "2017-07-01 12:00:00  2488.43  2512.87  2484.99\n",
       "2017-07-01 13:00:00  2454.43  2488.43  2454.40\n",
       "2017-07-01 14:00:00  2459.35  2473.93  2450.83\n",
       "2017-07-01 15:00:00  2467.83  2475.00  2450.00"
      ]
     },
     "execution_count": 74,
     "metadata": {},
     "output_type": "execute_result"
    }
   ],
   "source": [
    "btc.head()"
   ]
  },
  {
   "cell_type": "code",
   "execution_count": 83,
   "metadata": {},
   "outputs": [
    {
     "data": {
      "text/plain": [
       "<matplotlib.axes._subplots.AxesSubplot at 0x7f2b23269ed0>"
      ]
     },
     "execution_count": 83,
     "metadata": {},
     "output_type": "execute_result"
    },
    {
     "data": {
      "image/png": "[encoded data removed]",
      "text/plain": [
       "<Figure size 864x504 with 1 Axes>"
      ]
     },
     "metadata": {},
     "output_type": "display_data"
    }
   ],
   "source": [
    "btc.loc['2019-11-04'].plot(y='value', linestyle='--', marker='o', color='red')"
   ]
  },
  {
   "cell_type": "code",
   "execution_count": 104,
   "metadata": {},
   "outputs": [],
   "source": [
    "btc_agg = btc.resample('W').agg(['mean', 'std'])\n",
    "btc_agg = btc_agg['value']"
   ]
  },
  {
   "cell_type": "code",
   "execution_count": 105,
   "metadata": {},
   "outputs": [
    {
     "data": {
      "text/plain": [
       "<matplotlib.collections.PolyCollection at 0x7f2b20d52a50>"
      ]
     },
     "execution_count": 105,
     "metadata": {},
     "output_type": "execute_result"
    },
    {
     "data": {
      "image/png": "[encoded data removed]",
      "text/plain": [
       "<Figure size 864x504 with 1 Axes>"
      ]
     },
     "metadata": {},
     "output_type": "display_data"
    }
   ],
   "source": [
    "ax = btc_agg.plot(y='mean')\n",
    "ax.fill_between(btc_agg.index, btc_agg['mean'] - btc_agg['std'],\n",
    "                btc_agg['mean'] + btc_agg['std'], alpha=0.5)"
   ]
  },
  {
   "cell_type": "code",
   "execution_count": 123,
   "metadata": {},
   "outputs": [
    {
     "data": {
      "text/plain": [
       "<matplotlib.axes._subplots.AxesSubplot at 0x7f2b223ed590>"
      ]
     },
     "execution_count": 123,
     "metadata": {},
     "output_type": "execute_result"
    },
    {
     "data": {
      "image/png": "[encoded data removed]",
      "text/plain": [
       "<Figure size 864x504 with 1 Axes>"
      ]
     },
     "metadata": {},
     "output_type": "display_data"
    }
   ],
   "source": [
    "bt9 = btc.loc['2019']\n",
    "ax = bt9.plot(y='value')\n",
    "bt9.resample('W').mean().shift(freq='72H').plot(ax=ax, y='value', label='Weekly mean')\n",
    "bt9.rolling(window='7D', min_periods=1).mean().shift(freq='-72H').plot(ax=ax, y='value', label='Rolling mean')"
   ]
  },
  {
   "cell_type": "code",
   "execution_count": 119,
   "metadata": {},
   "outputs": [
    {
     "data": {
      "text/html": [
       "<div>\n",
       "<style scoped>\n",
       "    .dataframe tbody tr th:only-of-type {\n",
       "        vertical-align: middle;\n",
       "    }\n",
       "\n",
       "    .dataframe tbody tr th {\n",
       "        vertical-align: top;\n",
       "    }\n",
       "\n",
       "    .dataframe thead th {\n",
       "        text-align: right;\n",
       "    }\n",
       "</style>\n",
       "<table border=\"1\" class=\"dataframe\">\n",
       "  <thead>\n",
       "    <tr style=\"text-align: right;\">\n",
       "      <th></th>\n",
       "      <th>value</th>\n",
       "      <th>High</th>\n",
       "      <th>Low</th>\n",
       "    </tr>\n",
       "    <tr>\n",
       "      <th>date</th>\n",
       "      <th></th>\n",
       "      <th></th>\n",
       "      <th></th>\n",
       "    </tr>\n",
       "  </thead>\n",
       "  <tbody>\n",
       "    <tr>\n",
       "      <td>2019-01-01 00:00:00</td>\n",
       "      <td>3691.890000</td>\n",
       "      <td>3701.730000</td>\n",
       "      <td>3680.630000</td>\n",
       "    </tr>\n",
       "    <tr>\n",
       "      <td>2019-01-01 01:00:00</td>\n",
       "      <td>3684.275000</td>\n",
       "      <td>3697.700000</td>\n",
       "      <td>3676.750000</td>\n",
       "    </tr>\n",
       "    <tr>\n",
       "      <td>2019-01-01 02:00:00</td>\n",
       "      <td>3680.850000</td>\n",
       "      <td>3691.466667</td>\n",
       "      <td>3673.300000</td>\n",
       "    </tr>\n",
       "    <tr>\n",
       "      <td>2019-01-01 03:00:00</td>\n",
       "      <td>3681.137500</td>\n",
       "      <td>3689.600000</td>\n",
       "      <td>3673.472500</td>\n",
       "    </tr>\n",
       "    <tr>\n",
       "      <td>2019-01-01 04:00:00</td>\n",
       "      <td>3681.270000</td>\n",
       "      <td>3691.680000</td>\n",
       "      <td>3674.604000</td>\n",
       "    </tr>\n",
       "    <tr>\n",
       "      <td>2019-01-01 05:00:00</td>\n",
       "      <td>3682.725000</td>\n",
       "      <td>3691.400000</td>\n",
       "      <td>3675.803333</td>\n",
       "    </tr>\n",
       "    <tr>\n",
       "      <td>2019-01-01 06:00:00</td>\n",
       "      <td>3683.957143</td>\n",
       "      <td>3691.911429</td>\n",
       "      <td>3677.688571</td>\n",
       "    </tr>\n",
       "    <tr>\n",
       "      <td>2019-01-01 07:00:00</td>\n",
       "      <td>3686.201250</td>\n",
       "      <td>3694.797500</td>\n",
       "      <td>3679.396250</td>\n",
       "    </tr>\n",
       "    <tr>\n",
       "      <td>2019-01-01 08:00:00</td>\n",
       "      <td>3689.228889</td>\n",
       "      <td>3698.153333</td>\n",
       "      <td>3681.790000</td>\n",
       "    </tr>\n",
       "    <tr>\n",
       "      <td>2019-01-01 09:00:00</td>\n",
       "      <td>3689.814000</td>\n",
       "      <td>3699.683000</td>\n",
       "      <td>3682.611000</td>\n",
       "    </tr>\n",
       "  </tbody>\n",
       "</table>\n",
       "</div>"
      ],
      "text/plain": [
       "                           value         High          Low\n",
       "date                                                      \n",
       "2019-01-01 00:00:00  3691.890000  3701.730000  3680.630000\n",
       "2019-01-01 01:00:00  3684.275000  3697.700000  3676.750000\n",
       "2019-01-01 02:00:00  3680.850000  3691.466667  3673.300000\n",
       "2019-01-01 03:00:00  3681.137500  3689.600000  3673.472500\n",
       "2019-01-01 04:00:00  3681.270000  3691.680000  3674.604000\n",
       "2019-01-01 05:00:00  3682.725000  3691.400000  3675.803333\n",
       "2019-01-01 06:00:00  3683.957143  3691.911429  3677.688571\n",
       "2019-01-01 07:00:00  3686.201250  3694.797500  3679.396250\n",
       "2019-01-01 08:00:00  3689.228889  3698.153333  3681.790000\n",
       "2019-01-01 09:00:00  3689.814000  3699.683000  3682.611000"
      ]
     },
     "execution_count": 119,
     "metadata": {},
     "output_type": "execute_result"
    }
   ],
   "source": [
    "bt9.rolling(window='7D', min_periods=1).mean().head(10)"
   ]
  }
 ],
 "metadata": {
  "kernelspec": {
   "display_name": "Python 3",
   "language": "python",
   "name": "python3"
  },
  "language_info": {
   "codemirror_mode": {
    "name": "ipython",
    "version": 3
   },
   "file_extension": ".py",
   "mimetype": "text/x-python",
   "name": "python",
   "nbconvert_exporter": "python",
   "pygments_lexer": "ipython3",
   "version": "3.7.4"
  }
 },
 "nbformat": 4,
 "nbformat_minor": 4
}
