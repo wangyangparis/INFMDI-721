{
 "cells": [
  {
   "cell_type": "code",
   "execution_count": 1,
   "metadata": {},
   "outputs": [],
   "source": [
    "import asyncio\n",
    "from pyppeteer import launch  # pip install pyppeteer\n",
    "from bs4 import BeautifulSoup\n",
    "\n",
    "\n",
    "def get_todo_list(html):\n",
    "    soup = BeautifulSoup(html, 'html.parser')\n",
    "    items = soup.find_all('li')\n",
    "    return [item.text for item in items]\n",
    "\n",
    "\n",
    "async def main():\n",
    "    # Launch a headless browser:\n",
    "    print('Starting browser...\\n')\n",
    "    browser = await launch()\n",
    "    page = await browser.newPage()\n",
    "\n",
    "    # Go to the url:\n",
    "    await page.goto('https://kim.fspot.org/cours/page5.html')\n",
    "    # Get the content:\n",
    "    content = await page.evaluate('document.body.outerHTML', force_expr=True)\n",
    "    print(\"Initial todo items:\")\n",
    "    for todo_item in get_todo_list(content):\n",
    "        print('-', todo_item)\n",
    "\n",
    "    print(\"\\nWait 10 seconds...\\n\")\n",
    "    await asyncio.sleep(10)\n",
    "    # Get the content again:\n",
    "    content = await page.evaluate('document.body.outerHTML', force_expr=True)\n",
    "    print(\"Todo items after 10s:\")\n",
    "    for todo_item in get_todo_list(content):\n",
    "        print('-', todo_item)\n",
    "\n",
    "    # Take a screenshot of the page:\n",
    "    await page.screenshot({'path': 'page.png'})\n",
    "    await browser.close()\n",
    "    print('\\nDone.')"
   ]
  },
  {
   "cell_type": "code",
   "execution_count": 2,
   "metadata": {},
   "outputs": [
    {
     "name": "stdout",
     "output_type": "stream",
     "text": [
      "Starting browser...\n",
      "\n",
      "Initial todo items:\n",
      "- learn some python\n",
      "- learn some pandas\n",
      "\n",
      "Wait 10 seconds...\n",
      "\n",
      "Todo items after 10s:\n",
      "- learn some python\n",
      "- learn some pandas\n",
      "- another item #1\n",
      "- another item #2\n",
      "- another item #3\n",
      "\n",
      "Done.\n"
     ]
    }
   ],
   "source": [
    "await main()"
   ]
  }
 ],
 "metadata": {
  "kernelspec": {
   "display_name": "Python 3",
   "language": "python",
   "name": "python3"
  },
  "language_info": {
   "codemirror_mode": {
    "name": "ipython",
    "version": 3
   },
   "file_extension": ".py",
   "mimetype": "text/x-python",
   "name": "python",
   "nbconvert_exporter": "python",
   "pygments_lexer": "ipython3",
   "version": "3.7.4"
  }
 },
 "nbformat": 4,
 "nbformat_minor": 4
}
