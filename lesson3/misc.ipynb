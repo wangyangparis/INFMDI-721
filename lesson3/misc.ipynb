{
 "cells": [
  {
   "cell_type": "code",
   "execution_count": 3,
   "metadata": {},
   "outputs": [
    {
     "name": "stdout",
     "output_type": "stream",
     "text": [
      "Initial value: 1\n",
      "Computed value: 2\n",
      "Final value: 1\n"
     ]
    }
   ],
   "source": [
    "x = 1\n",
    "print('Initial value:', x)\n",
    "\n",
    "def increment(x):\n",
    "    x = x + 1\n",
    "    print('Computed value:', x)\n",
    "    return x\n",
    "\n",
    "increment(x)\n",
    "print('Final value:', x)"
   ]
  },
  {
   "cell_type": "markdown",
   "metadata": {},
   "source": [
    "**Q**:\n",
    "Pourquoi la valeur finale de x est `1` et non `2` alors qu'on a bien pourtant bien utilisé la fonction `increment` ?\n",
    "\n",
    "**A**:\n",
    "Parce que la fonction increment ne modifie pas la variable x définie tout en haut, mais la copie qu'elle reçoit en paramètre. Cela devient plus clair si on change le nom du paramètre:\n",
    "\n",
    "```\n",
    "def increment(num):\n",
    "    num = num + 1\n",
    "    print('Computed value:', num)\n",
    "    return num\n",
    "```\n",
    "\n",
    "donc si on veut que x soit incrémenté, il faut assigner à x la valeur renvoyée par la fonction:\n",
    "\n",
    "```\n",
    "x = increment(x)\n",
    "```"
   ]
  }
 ],
 "metadata": {
  "kernelspec": {
   "display_name": "Python 3",
   "language": "python",
   "name": "python3"
  },
  "language_info": {
   "codemirror_mode": {
    "name": "ipython",
    "version": 3
   },
   "file_extension": ".py",
   "mimetype": "text/x-python",
   "name": "python",
   "nbconvert_exporter": "python",
   "pygments_lexer": "ipython3",
   "version": "3.7.4"
  }
 },
 "nbformat": 4,
 "nbformat_minor": 4
}
