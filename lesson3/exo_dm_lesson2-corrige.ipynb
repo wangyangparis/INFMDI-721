{
 "cells": [
  {
   "cell_type": "markdown",
   "metadata": {},
   "source": [
    "#### DM lesson2\n",
    "\n",
    "> Une théorie veut que n'importe quel article sur Wikipedia pointe au final sur la philosophie. Pour la vérifier, il suffit de cliquer sur le premier lien d'un article Wikipedia qui mène à un autre article et ainsi de suite : à force, on tombe immanquablement sur l'article dédié à la philosophie.\n",
    "\n",
    "(Note: depuis le dernier cours il semble qu'il y ai eu une modification sur la page https://fr.wikipedia.org/wiki/Chose_(philosophie) qui fait qu'on ne retombe plus sur l'article Philosophie - on peut donc remplacer la condition d'arrêt par la page une autre page, e.g Langue dans la suite)"
   ]
  },
  {
   "cell_type": "code",
   "execution_count": 3,
   "metadata": {},
   "outputs": [],
   "source": [
    "from bs4 import BeautifulSoup\n",
    "import requests\n",
    "import time\n",
    "\n",
    "URL_PREFIX = \"https://fr.wikipedia.org\"\n",
    "debug = []\n",
    "\n",
    "def get_soup_from_url(url):\n",
    "    return BeautifulSoup(requests.get(url).text, 'html.parser')\n",
    "\n",
    "def filter_links_from_page(soup):\n",
    "    links = []\n",
    "    for a in soup.find(id=\"mw-content-text\").select('p a'):\n",
    "        if a.parent.name != 'span':\n",
    "            l = a.attrs.get('href')\n",
    "            if l and l.startswith('/wiki/') and ':' not in l:\n",
    "                url = URL_PREFIX + l\n",
    "                links.append(url)\n",
    "    return links\n",
    "\n",
    "def follow_links(url):\n",
    "    count = 0\n",
    "    while count < 30 and not url.endswith(\"/wiki/Langue\"):\n",
    "        soup = get_soup_from_url(url)\n",
    "        links = filter_links_from_page(soup)\n",
    "        url = links[0] if links[0] != url else links[1]\n",
    "        print('found:', url)\n",
    "        count += 1\n",
    "        time.sleep(0.5)\n",
    "    return count"
   ]
  },
  {
   "cell_type": "code",
   "execution_count": 4,
   "metadata": {},
   "outputs": [
    {
     "name": "stdout",
     "output_type": "stream",
     "text": [
      "found: https://fr.wikipedia.org/wiki/Site_Web\n",
      "found: https://fr.wikipedia.org/wiki/Page_web\n",
      "found: https://fr.wikipedia.org/wiki/World_Wide_Web\n",
      "found: https://fr.wikipedia.org/wiki/Hypertexte\n",
      "found: https://fr.wikipedia.org/wiki/Document\n",
      "found: https://fr.wikipedia.org/wiki/Signe\n",
      "found: https://fr.wikipedia.org/wiki/Objet\n",
      "found: https://fr.wikipedia.org/wiki/Discipline_(sp%C3%A9cialit%C3%A9)\n",
      "found: https://fr.wikipedia.org/wiki/Savoir\n",
      "found: https://fr.wikipedia.org/wiki/Connaissance\n",
      "found: https://fr.wikipedia.org/wiki/Notion\n",
      "found: https://fr.wikipedia.org/wiki/Esprit\n",
      "found: https://fr.wikipedia.org/wiki/Ph%C3%A9nom%C3%A8ne\n",
      "found: https://fr.wikipedia.org/wiki/Chose_(philosophie)\n",
      "found: https://fr.wikipedia.org/wiki/Latin\n",
      "found: https://fr.wikipedia.org/wiki/Langues_italiques\n",
      "found: https://fr.wikipedia.org/wiki/Famille_de_langues\n",
      "found: https://fr.wikipedia.org/wiki/Langue\n"
     ]
    },
    {
     "data": {
      "text/plain": [
       "18"
      ]
     },
     "execution_count": 4,
     "metadata": {},
     "output_type": "execute_result"
    }
   ],
   "source": [
    "follow_links(\"https://fr.wikipedia.org/wiki/Web_scraping\")"
   ]
  }
 ],
 "metadata": {
  "kernelspec": {
   "display_name": "Python 3",
   "language": "python",
   "name": "python3"
  },
  "language_info": {
   "codemirror_mode": {
    "name": "ipython",
    "version": 3
   },
   "file_extension": ".py",
   "mimetype": "text/x-python",
   "name": "python",
   "nbconvert_exporter": "python",
   "pygments_lexer": "ipython3",
   "version": "3.7.4"
  }
 },
 "nbformat": 4,
 "nbformat_minor": 4
}
