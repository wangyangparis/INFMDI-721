{
 "cells": [
  {
   "cell_type": "markdown",
   "metadata": {},
   "source": [
    "### Web scraping **vs** using the API **vs** using a python *client*"
   ]
  },
  {
   "cell_type": "code",
   "execution_count": 1,
   "metadata": {},
   "outputs": [
    {
     "name": "stdout",
     "output_type": "stream",
     "text": [
      "CPU times: user 328 ms, sys: 12 ms, total: 340 ms\n",
      "Wall time: 910 ms\n"
     ]
    },
    {
     "data": {
      "text/plain": [
       "183723"
      ]
     },
     "execution_count": 1,
     "metadata": {},
     "output_type": "execute_result"
    }
   ],
   "source": [
    "%%time\n",
    "# Using web scraping from https://www.deezer.com\n",
    "\n",
    "import requests\n",
    "from bs4 import BeautifulSoup\n",
    "\n",
    "response = requests.get(\"https://www.deezer.com/fr/artist/939\")\n",
    "soup = BeautifulSoup(response.text, 'html.parser')\n",
    "nb_fans = int(soup.find('div', id='naboo_artist_social_small').span.text)\n",
    "\n",
    "nb_fans"
   ]
  },
  {
   "cell_type": "markdown",
   "metadata": {},
   "source": [
    "#### Inconvénients du web scraping:\n",
    "- plutôt lent (car on parse potentiellement beaucoup de HTML inutile)\n",
    "- ne donne pas les résultats attendus si une partie du contenu est intégré dynamiquement à la page via javascript\n",
    "- un changement dans l'architecture du html ou du css (e.g: refonte du design du site) oblige à réécrire le programme"
   ]
  },
  {
   "cell_type": "code",
   "execution_count": 2,
   "metadata": {},
   "outputs": [
    {
     "name": "stdout",
     "output_type": "stream",
     "text": [
      "CPU times: user 24 ms, sys: 4 ms, total: 28 ms\n",
      "Wall time: 411 ms\n"
     ]
    },
    {
     "data": {
      "text/plain": [
       "183723"
      ]
     },
     "execution_count": 2,
     "metadata": {},
     "output_type": "execute_result"
    }
   ],
   "source": [
    "%%time\n",
    "# Using deezer's public JSON API https://api.deezer.com\n",
    "\n",
    "import requests\n",
    "\n",
    "response = requests.get(\"https://api.deezer.com/artist/939\")\n",
    "data = json.loads(response.text)\n",
    "nb_fans = data['nb_fan']\n",
    "\n",
    "nb_fans"
   ]
  },
  {
   "cell_type": "markdown",
   "metadata": {},
   "source": [
    "#### Avantages d'une API\n",
    "- renvoie du format JSON, facile et rapide à traiter\n",
    "- renvoie un format stable et documenté (voire versionné): https://developers.deezer.com/api\n",
    "    - la documentation indique comment interagir avec l'API:\n",
    "        - quelle url\n",
    "        - quelle méthode http (GET, POST, ...)\n",
    "        - quels paramètres\n",
    "        - ...\n",
    "\n",
    "→ idéal pour les développeurs"
   ]
  },
  {
   "cell_type": "code",
   "execution_count": 3,
   "metadata": {},
   "outputs": [
    {
     "name": "stdout",
     "output_type": "stream",
     "text": [
      "CPU times: user 40 ms, sys: 8 ms, total: 48 ms\n",
      "Wall time: 393 ms\n"
     ]
    },
    {
     "data": {
      "text/plain": [
       "183724"
      ]
     },
     "execution_count": 3,
     "metadata": {},
     "output_type": "execute_result"
    }
   ],
   "source": [
    "%%time\n",
    "# Using \"deezer-python\" external package (which itself uses deezer API)\n",
    "\n",
    "import deezer  # needs to be installed (pip install deezer)\n",
    "\n",
    "c = deezer.Client()\n",
    "nb_fans = c.get_artist(939).nb_fan\n",
    "\n",
    "nb_fans"
   ]
  },
  {
   "cell_type": "markdown",
   "metadata": {},
   "source": [
    "→ une fois qu'un service comme deezer expose une API, il devient \"facile\" pour un dev python de réaliser un tel module (aka: *api client*) qui abstrait complètement la partie requêtes http."
   ]
  },
  {
   "cell_type": "markdown",
   "metadata": {},
   "source": [
    "### Quel intérêt pour le fournisseur d'API ?\n",
    "\n",
    "En général il met en place des quotas de requêtes ou d'autres limitations afin de proposer un service payant qui dispose de possibilités avancées / d'un meileur support / etc.\n",
    "\n",
    "C'est pourquoi de nombreux services nécessitent de se connecter avec son compte client pour utiliser une API (e.g https://openweathermap.org)\n",
    "\n",
    "*(l'autre intérêt de se connecter est simplement de pouvoir accéder à ses données privées: e.g je veux faire un programme python qui me donne la liste de mes tweets mais mon compte twitter est protégé)*"
   ]
  },
  {
   "cell_type": "markdown",
   "metadata": {},
   "source": [
    "#### **Basic Auth**\n",
    "\n",
    "Exemple: accéder à https://kim.fspot.org/private/ affiche:\n",
    "\n",
    "![](http://i.imgur.com/OR51ugh.png)\n",
    "\n",
    "Pour y accéder il est nécessaire d'utiliser les credentials suivant:\n",
    "- login: `admin`\n",
    "- password: `secret`\n",
    "\n",
    "Si on ne les passe pas (ou si on ne passe pas les bons), on a une erreur 401 (= unauthorized)."
   ]
  },
  {
   "cell_type": "code",
   "execution_count": 1,
   "metadata": {},
   "outputs": [
    {
     "data": {
      "text/plain": [
       "<Response [401]>"
      ]
     },
     "execution_count": 1,
     "metadata": {},
     "output_type": "execute_result"
    }
   ],
   "source": [
    "res = requests.get('https://kim.fspot.org/private')\n",
    "res"
   ]
  },
  {
   "cell_type": "code",
   "execution_count": 58,
   "metadata": {},
   "outputs": [
    {
     "data": {
      "text/plain": [
       "{'Server': 'nginx/1.10.3', 'Date': 'Wed, 02 Oct 2019 21:50:28 GMT', 'Content-Type': 'text/html', 'Content-Length': '195', 'Connection': 'keep-alive', 'WWW-Authenticate': 'Basic realm=\"Restricted\"'}"
      ]
     },
     "execution_count": 58,
     "metadata": {},
     "output_type": "execute_result"
    }
   ],
   "source": [
    "# Dans les headers (metadata) de la réponse on peut voir\n",
    "# qu'il faut faire une auth \"Basic\":\n",
    "res.headers"
   ]
  },
  {
   "cell_type": "markdown",
   "metadata": {},
   "source": [
    "[Basic Auth (wikipedia)](https://fr.wikipedia.org/wiki/Authentification_HTTP#M%C3%A9thode_%C2%AB_Basic_%C2%BB) : il faut passer un header `Authorization` avec la valeur `Basic XXX` en remplaçant `XXX` par les credentials `username:password` encodés en base64:"
   ]
  },
  {
   "cell_type": "code",
   "execution_count": 12,
   "metadata": {},
   "outputs": [
    {
     "name": "stdout",
     "output_type": "stream",
     "text": [
      "YWRtaW46c2VjcmV0\n"
     ]
    }
   ],
   "source": [
    "from base64 import b64encode\n",
    "\n",
    "credentials = 'admin:secret'\n",
    "encoded = b64encode(credentials.encode())\n",
    "\n",
    "print(encoded.decode())"
   ]
  },
  {
   "cell_type": "markdown",
   "metadata": {},
   "source": [
    "→ On réessaye la requête avec le bon header:"
   ]
  },
  {
   "cell_type": "code",
   "execution_count": 74,
   "metadata": {},
   "outputs": [
    {
     "data": {
      "text/plain": [
       "<Response [200]>"
      ]
     },
     "execution_count": 74,
     "metadata": {},
     "output_type": "execute_result"
    }
   ],
   "source": [
    "headers = {'Authorization': 'Basic YWRtaW46c2VjcmV0'}\n",
    "res = requests.get('https://kim.fspot.org/private', headers=headers)\n",
    "res"
   ]
  },
  {
   "cell_type": "code",
   "execution_count": 76,
   "metadata": {},
   "outputs": [
    {
     "data": {
      "text/plain": [
       "<Response [200]>"
      ]
     },
     "execution_count": 76,
     "metadata": {},
     "output_type": "execute_result"
    }
   ],
   "source": [
    "# En réalité on s'épargne de faire ça à la main, requests peut le faire pour nous:\n",
    "res = requests.get('https://kim.fspot.org/private', auth=('admin', 'secret'))\n",
    "res"
   ]
  },
  {
   "cell_type": "markdown",
   "metadata": {},
   "source": [
    "#### **Auth par token**\n",
    "\n",
    "Exemple sur openweathermap:\n",
    "- documentation: https://openweathermap.org/appid\n",
    "- mes tokens: https://home.openweathermap.org/api_keys\n",
    "\n",
    "Avantage des tokens:\n",
    "- évite que les requêtes HTTP contiennent le mot de passe - à la place elles contiennent un token\n",
    "- si je me fais \"voler\" un token, je peux le supprimer de mon compte\n",
    "- certains services fournissent des token plus ou moins limités: ainsi je peux accepter de prêter un token à quelqu'un d'autre si je sais qu'il ne pourra en faire qu'un usage restreint (e.g app facebook: voir mes infos de profil, pas publier des posts à ma place)\n"
   ]
  },
  {
   "cell_type": "code",
   "execution_count": 13,
   "metadata": {},
   "outputs": [
    {
     "data": {
      "text/plain": [
       "[{'id': 800, 'main': 'Clear', 'description': 'clear sky', 'icon': '01d'}]"
      ]
     },
     "execution_count": 13,
     "metadata": {},
     "output_type": "execute_result"
    }
   ],
   "source": [
    "url = \"http://api.openweathermap.org/data/2.5/weather?APPID=515b9c16560819dfe610251459c619d7&q=Paris\"\n",
    "res = requests.get(url)\n",
    "\n",
    "res.json()['weather']"
   ]
  },
  {
   "cell_type": "markdown",
   "metadata": {},
   "source": [
    "#### **OAuth**\n",
    "\n",
    "**Il y a 15 ans:**\n",
    "\n",
    "![](https://i.imgur.com/R2MWzJS.png)\n",
    "\n",
    "**Maintenant:**\n",
    "\n",
    "![](http://i.imgur.com/8IDITxx.png)\n",
    "\n",
    "OAuth est un standard très répandu pour gérer l'authentification car il permet le workflow ci-dessus (autoriser une app à accéder à une portion d'un service où vous êtes inscrit, e.g facebook) dans le browser. Par conséquent la plupart des API des gros services (twitter, facebook, google, etc.) ont une authentification basée sur OAuth.\n",
    "\n",
    "Mais il est beaucoup moins simple que du Basic Auth ou bien qu'un simple token dans l'url: cf. cet exemple de requête http authentifiée sur l'api twitter: https://developer.twitter.com/en/docs/basics/authentication/guides/authorizing-a-request\n",
    "\n",
    "En général on utilise donc des modules python qui abstraient les requêtes http en charge de l'authentification via oauth.\n",
    "\n",
    "Exemple avec le client d'api twitter en python:"
   ]
  },
  {
   "cell_type": "code",
   "execution_count": null,
   "metadata": {},
   "outputs": [],
   "source": [
    "# https://python-twitter.readthedocs.io/en/latest/getting_started.html#your-keys\n",
    "\n",
    "import twitter  # pip install python-twitter\n",
    "\n",
    "# fetch tokens from https://developer.twitter.com/en/apps/\n",
    "api = twitter.Api(consumer_key=\"[consumer key]\",\n",
    "                  consumer_secret=\"[consumer secret]\",\n",
    "                  access_token_key=\"[access token]\",\n",
    "                  access_token_secret=\"[access token secret]\")\n",
    "\n",
    "api.GetUserTimeline(screen_name=\"username\")"
   ]
  },
  {
   "cell_type": "markdown",
   "metadata": {},
   "source": [
    "#### Ex. github\n",
    "\n",
    "- https://github.com/settings/tokens\n",
    "- doc: https://developer.github.com/v3/ / https://developer.github.com/v3/repos/#list-your-repositories"
   ]
  }
 ],
 "metadata": {
  "kernelspec": {
   "display_name": "Python 3",
   "language": "python",
   "name": "python3"
  },
  "language_info": {
   "codemirror_mode": {
    "name": "ipython",
    "version": 3
   },
   "file_extension": ".py",
   "mimetype": "text/x-python",
   "name": "python",
   "nbconvert_exporter": "python",
   "pygments_lexer": "ipython3",
   "version": "3.7.4"
  }
 },
 "nbformat": 4,
 "nbformat_minor": 4
}
