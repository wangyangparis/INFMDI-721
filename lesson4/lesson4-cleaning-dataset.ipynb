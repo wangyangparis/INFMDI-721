{
 "cells": [
  {
   "cell_type": "markdown",
   "metadata": {},
   "source": [
    "# Cleaning\n",
    "- renommer des colonnes (df.rename(columns=....))\n",
    "- trouver/supprimer les données dupliquées (.duplicated / .drop_duplicates)\n",
    "- trouver les NA (df.column.isna() / df.column.notna())\n",
    "- remplacer les NA (.fillna())\n",
    "- remplacer n'importe quelle valeur (.replace({OLD_VALUE: NEW_VALUE, …}))\n",
    "- changer le type d'une série (aka cast) (.astype(type) / pd.to_numeric / pd.to_datetime)\n",
    "- fallback les valeurs NA d'une colonne sur une autre colonne: combine_first\n",
    "\n",
    "### .dt accessor (for date-type columns)\n",
    "→ https://pandas.pydata.org/pandas-docs/stable/reference/series.html#datetime-properties\n",
    "\n",
    "### .str accessor (for string-typed columns)\n",
    "\n",
    "→ https://pandas.pydata.org/pandas-docs/stable/reference/series.html#string-handling\n",
    "\n",
    "### Regexes:\n",
    "- cheat sheet: https://www.debuggex.com/cheatsheet/regex/python\n",
    "- talk sympa: https://www.youtube.com/watch?v=abrcJ9MpF60\n",
    "- le module dédié \"re\" de python: https://docs.python.org/3/library/re.html\n",
    "- site web pour tester des regexes: https://regex101.com"
   ]
  },
  {
   "cell_type": "code",
   "execution_count": 1,
   "metadata": {},
   "outputs": [],
   "source": [
    "# if you don't want pandas.read_csv to mess with data types,\n",
    "# you can force it to keep str values by specifying dtype=str.\n",
    "people = pd.read_csv('people.csv')"
   ]
  },
  {
   "cell_type": "code",
   "execution_count": 2,
   "metadata": {},
   "outputs": [
    {
     "data": {
      "text/plain": [
       "(209, 15)"
      ]
     },
     "execution_count": 2,
     "metadata": {},
     "output_type": "execute_result"
    }
   ],
   "source": [
    "people.shape"
   ]
  },
  {
   "cell_type": "code",
   "execution_count": 3,
   "metadata": {},
   "outputs": [
    {
     "name": "stdout",
     "output_type": "stream",
     "text": [
      "<class 'pandas.core.frame.DataFrame'>\n",
      "RangeIndex: 209 entries, 0 to 208\n",
      "Data columns (total 15 columns):\n",
      "id               209 non-null int64\n",
      "first_name       207 non-null object\n",
      "last_name        207 non-null object\n",
      "email address    203 non-null object\n",
      "gender           207 non-null object\n",
      "age              207 non-null object\n",
      "money            190 non-null object\n",
      "lon              207 non-null float64\n",
      "lat              207 non-null float64\n",
      "phone            83 non-null object\n",
      "registration     207 non-null object\n",
      "inactive         207 non-null object\n",
      "last_seen        190 non-null float64\n",
      "address          207 non-null object\n",
      "preference       207 non-null object\n",
      "dtypes: float64(3), int64(1), object(11)\n",
      "memory usage: 24.6+ KB\n"
     ]
    }
   ],
   "source": [
    "people.info()"
   ]
  },
  {
   "cell_type": "code",
   "execution_count": 4,
   "metadata": {},
   "outputs": [
    {
     "data": {
      "text/plain": [
       "array(['Female', 'Male', 'F', 'M', nan], dtype=object)"
      ]
     },
     "execution_count": 4,
     "metadata": {},
     "output_type": "execute_result"
    }
   ],
   "source": [
    "people.gender.unique()"
   ]
  },
  {
   "cell_type": "code",
   "execution_count": 5,
   "metadata": {},
   "outputs": [],
   "source": [
    "def clean_people(df):\n",
    "    # rename columns:\n",
    "    df = df.rename(columns={'email address': 'email'})\n",
    "    \n",
    "    # remove rows which have an empty \"first_name\" (NA):\n",
    "    #df = df[df.first_name.notna()] <- equivalent to next line:\n",
    "    df = df.dropna(subset=['first_name'])\n",
    "    \n",
    "    # drop duplicates on ID column:\n",
    "    df = df.drop_duplicates()\n",
    "    \n",
    "    # Normalize gender column:\n",
    "    df['gender'] = df['gender'].replace({'Female': 'F', 'Male': 'M'})\n",
    "    \n",
    "    # Convert column \"age\" to number (coerce: put NaN for bad values):\n",
    "    df['age'] = pd.to_numeric(df.age, errors='coerce')\n",
    "    \n",
    "    # Convert columns to date type:\n",
    "    df['registration'] = pd.to_datetime(df.registration)\n",
    "    df['last_seen'] = pd.to_datetime(df.last_seen, unit='s')\n",
    "    # When missing, last seen should fallback to the registration date:\n",
    "    df['last_seen'] = df.last_seen.combine_first(df.registration)\n",
    "    \n",
    "    # Add a \"full_name\" column by concatenating two other ones:\n",
    "    df['full_name'] = df.first_name + \" \" + df.last_name\n",
    "    \n",
    "    # Add a \"country\" column by extracting it from the address, with a split:\n",
    "    df['country'] = df.address.str.split(', ').str[1]\n",
    "    \n",
    "    # Column \"money\" contains values like \"$50.23\" or \"€23,09\".\n",
    "    # We want to make it uniform (only dollar currency) and as number, not str.\n",
    "    df['currency'] = df.money.str[0]  # extract first char ($/€) to a new \"currency\" column\n",
    "    df['money'] = df.money.str[1:].str.replace(',', '.')  # extract remaining chars and replace , by .\n",
    "    df['money'] = pd.to_numeric(df.money)  # convert to number\n",
    "    # convert euros cells to dollar:\n",
    "    df.loc[df.currency == '€', 'money'] = df[df.currency == '€'].money * 1.10\n",
    "    del df['currency']  # remove \"currency\" column which is now useless\n",
    "    \n",
    "    # Keep only rows where email is not NA:\n",
    "    df = df.dropna(subset=['email'])\n",
    "    # Keep only rows where email is a good email:\n",
    "    # CAUTION: in the real world you should not use dummy regexes like this to validate email addresses,\n",
    "    # but instead use a dedicated tool like https://github.com/syrusakbary/validate_email.\n",
    "    df = df[df.email.str.contains('.+@[0-9a-zA-Z\\.\\-_]+\\.\\w{2,}')]\n",
    "    # Some users may use email alias (example: john.smith+truc@gmail.com is an alias for john.smith@gmail.com).\n",
    "    # We want to drop these duplicates. To do that, we extract the 'alias' part with a regex:\n",
    "    groups = df.email.str.extract('([0-9a-zA-Z\\.\\-_]+)(\\+[0-9a-zA-Z\\.\\-_]+)?(@[0-9a-zA-Z\\.\\-_]+\\.\\w{2,})')\n",
    "    df['email'] = groups[0] + groups[2]  # we override the email with the email without the alias part\n",
    "    # Then, just use drop_duplicates, which will keep the first line by default:\n",
    "    df = df.drop_duplicates(subset=['email'])\n",
    "    \n",
    "    return df\n",
    "\n",
    "df_clean = clean_people(people)"
   ]
  },
  {
   "cell_type": "markdown",
   "metadata": {},
   "source": [
    "# Pandas performances\n",
    "\n",
    "- manipuler des nombres / bool est beaucoup + performant que manipuler des str\n",
    "- une sélection sur un index trié est beaucoup + performant que filtrer les valeurs d'une colonne\n",
    "- https://engineering.upside.com/a-beginners-guide-to-optimizing-pandas-code-for-speed-c09ef2c6a4d6 : règle générale: ne pas faire de boucle for sur les lignes, et éviter le .apply autant que possible\n",
    "\n"
   ]
  },
  {
   "cell_type": "code",
   "execution_count": 6,
   "metadata": {},
   "outputs": [],
   "source": [
    "df = pd.read_csv('more_people.csv')  # big dataset"
   ]
  },
  {
   "cell_type": "code",
   "execution_count": 7,
   "metadata": {},
   "outputs": [
    {
     "name": "stdout",
     "output_type": "stream",
     "text": [
      "999 ms ± 23.6 ms per loop (mean ± std. dev. of 7 runs, 1 loop each)\n"
     ]
    }
   ],
   "source": [
    "%%timeit\n",
    "# Le filtre avec .contains sur une colonne str est LENT:\n",
    "x = df[df.preference.str.contains('dessert')]"
   ]
  },
  {
   "cell_type": "code",
   "execution_count": 8,
   "metadata": {},
   "outputs": [
    {
     "name": "stdout",
     "output_type": "stream",
     "text": [
      "15.1 ms ± 211 µs per loop (mean ± std. dev. of 7 runs, 100 loops each)\n"
     ]
    }
   ],
   "source": [
    "%%timeit\n",
    "# Le filtre sur une colonne int est beaucoup plus rapide (presque 100x):\n",
    "x = df[df.id == 27625]"
   ]
  },
  {
   "cell_type": "markdown",
   "metadata": {},
   "source": [
    "Si on est amenés à faire de nombreuses fois le filtre sur préférence, pour avoir de meilleures perfs, on peut vouloir extraire les différentes valeurs (entrée/plat/dessert/boisson) dans des colonnes dédiées de type int, avec str.get_dummies"
   ]
  },
  {
   "cell_type": "code",
   "execution_count": 9,
   "metadata": {},
   "outputs": [],
   "source": [
    "df['take_dessert'] = df.preference.str.get_dummies(sep='/').dessert\n",
    "df = df.set_index('take_dessert').sort_index()"
   ]
  },
  {
   "cell_type": "code",
   "execution_count": 10,
   "metadata": {},
   "outputs": [
    {
     "name": "stdout",
     "output_type": "stream",
     "text": [
      "290 µs ± 8.4 µs per loop (mean ± std. dev. of 7 runs, 1000 loops each)\n"
     ]
    }
   ],
   "source": [
    "%%timeit\n",
    "x = df.loc[1]"
   ]
  },
  {
   "cell_type": "markdown",
   "metadata": {},
   "source": [
    "## Interpolate"
   ]
  },
  {
   "cell_type": "code",
   "execution_count": 11,
   "metadata": {},
   "outputs": [],
   "source": [
    "temperatures = pd.DataFrame({\n",
    "    'temp': [13, 14, np.nan, np.nan, 16, 17, 17, 18, 19, 19]\n",
    "}, index=['6h', '7h', '8h', '9h', '10h', '11h', '12h', '13h', '14h', '15h'])"
   ]
  },
  {
   "cell_type": "code",
   "execution_count": 12,
   "metadata": {},
   "outputs": [
    {
     "data": {
      "text/html": [
       "<div>\n",
       "<style scoped>\n",
       "    .dataframe tbody tr th:only-of-type {\n",
       "        vertical-align: middle;\n",
       "    }\n",
       "\n",
       "    .dataframe tbody tr th {\n",
       "        vertical-align: top;\n",
       "    }\n",
       "\n",
       "    .dataframe thead th {\n",
       "        text-align: right;\n",
       "    }\n",
       "</style>\n",
       "<table border=\"1\" class=\"dataframe\">\n",
       "  <thead>\n",
       "    <tr style=\"text-align: right;\">\n",
       "      <th></th>\n",
       "      <th>temp</th>\n",
       "    </tr>\n",
       "  </thead>\n",
       "  <tbody>\n",
       "    <tr>\n",
       "      <td>6h</td>\n",
       "      <td>13.0</td>\n",
       "    </tr>\n",
       "    <tr>\n",
       "      <td>7h</td>\n",
       "      <td>14.0</td>\n",
       "    </tr>\n",
       "    <tr>\n",
       "      <td>8h</td>\n",
       "      <td>NaN</td>\n",
       "    </tr>\n",
       "    <tr>\n",
       "      <td>9h</td>\n",
       "      <td>NaN</td>\n",
       "    </tr>\n",
       "    <tr>\n",
       "      <td>10h</td>\n",
       "      <td>16.0</td>\n",
       "    </tr>\n",
       "    <tr>\n",
       "      <td>11h</td>\n",
       "      <td>17.0</td>\n",
       "    </tr>\n",
       "    <tr>\n",
       "      <td>12h</td>\n",
       "      <td>17.0</td>\n",
       "    </tr>\n",
       "    <tr>\n",
       "      <td>13h</td>\n",
       "      <td>18.0</td>\n",
       "    </tr>\n",
       "    <tr>\n",
       "      <td>14h</td>\n",
       "      <td>19.0</td>\n",
       "    </tr>\n",
       "    <tr>\n",
       "      <td>15h</td>\n",
       "      <td>19.0</td>\n",
       "    </tr>\n",
       "  </tbody>\n",
       "</table>\n",
       "</div>"
      ],
      "text/plain": [
       "     temp\n",
       "6h   13.0\n",
       "7h   14.0\n",
       "8h    NaN\n",
       "9h    NaN\n",
       "10h  16.0\n",
       "11h  17.0\n",
       "12h  17.0\n",
       "13h  18.0\n",
       "14h  19.0\n",
       "15h  19.0"
      ]
     },
     "execution_count": 12,
     "metadata": {},
     "output_type": "execute_result"
    }
   ],
   "source": [
    "temperatures"
   ]
  },
  {
   "cell_type": "code",
   "execution_count": 13,
   "metadata": {},
   "outputs": [
    {
     "data": {
      "text/plain": [
       "6h     13.000000\n",
       "7h     14.000000\n",
       "8h     14.666667\n",
       "9h     15.333333\n",
       "10h    16.000000\n",
       "11h    17.000000\n",
       "12h    17.000000\n",
       "13h    18.000000\n",
       "14h    19.000000\n",
       "15h    19.000000\n",
       "Name: temp, dtype: float64"
      ]
     },
     "execution_count": 13,
     "metadata": {},
     "output_type": "execute_result"
    }
   ],
   "source": [
    "temperatures.temp.interpolate()"
   ]
  },
  {
   "cell_type": "markdown",
   "metadata": {},
   "source": [
    "## Reindex"
   ]
  },
  {
   "cell_type": "code",
   "execution_count": 14,
   "metadata": {},
   "outputs": [],
   "source": [
    "# ventes cumulées du lundi au dimanche (l'index représente le jour de la semaine):\n",
    "df = pd.DataFrame({\n",
    "    'total_ventes': [122, 232, 412, 598, 632]\n",
    "}, index=[1, 2, 4, 5, 7])"
   ]
  },
  {
   "cell_type": "code",
   "execution_count": 15,
   "metadata": {},
   "outputs": [
    {
     "data": {
      "text/html": [
       "<div>\n",
       "<style scoped>\n",
       "    .dataframe tbody tr th:only-of-type {\n",
       "        vertical-align: middle;\n",
       "    }\n",
       "\n",
       "    .dataframe tbody tr th {\n",
       "        vertical-align: top;\n",
       "    }\n",
       "\n",
       "    .dataframe thead th {\n",
       "        text-align: right;\n",
       "    }\n",
       "</style>\n",
       "<table border=\"1\" class=\"dataframe\">\n",
       "  <thead>\n",
       "    <tr style=\"text-align: right;\">\n",
       "      <th></th>\n",
       "      <th>total_ventes</th>\n",
       "    </tr>\n",
       "  </thead>\n",
       "  <tbody>\n",
       "    <tr>\n",
       "      <td>1</td>\n",
       "      <td>122</td>\n",
       "    </tr>\n",
       "    <tr>\n",
       "      <td>2</td>\n",
       "      <td>232</td>\n",
       "    </tr>\n",
       "    <tr>\n",
       "      <td>4</td>\n",
       "      <td>412</td>\n",
       "    </tr>\n",
       "    <tr>\n",
       "      <td>5</td>\n",
       "      <td>598</td>\n",
       "    </tr>\n",
       "    <tr>\n",
       "      <td>7</td>\n",
       "      <td>632</td>\n",
       "    </tr>\n",
       "  </tbody>\n",
       "</table>\n",
       "</div>"
      ],
      "text/plain": [
       "   total_ventes\n",
       "1           122\n",
       "2           232\n",
       "4           412\n",
       "5           598\n",
       "7           632"
      ]
     },
     "execution_count": 15,
     "metadata": {},
     "output_type": "execute_result"
    }
   ],
   "source": [
    "df"
   ]
  },
  {
   "cell_type": "code",
   "execution_count": 16,
   "metadata": {},
   "outputs": [
    {
     "data": {
      "text/html": [
       "<div>\n",
       "<style scoped>\n",
       "    .dataframe tbody tr th:only-of-type {\n",
       "        vertical-align: middle;\n",
       "    }\n",
       "\n",
       "    .dataframe tbody tr th {\n",
       "        vertical-align: top;\n",
       "    }\n",
       "\n",
       "    .dataframe thead th {\n",
       "        text-align: right;\n",
       "    }\n",
       "</style>\n",
       "<table border=\"1\" class=\"dataframe\">\n",
       "  <thead>\n",
       "    <tr style=\"text-align: right;\">\n",
       "      <th></th>\n",
       "      <th>total_ventes</th>\n",
       "    </tr>\n",
       "  </thead>\n",
       "  <tbody>\n",
       "    <tr>\n",
       "      <td>1</td>\n",
       "      <td>122.0</td>\n",
       "    </tr>\n",
       "    <tr>\n",
       "      <td>2</td>\n",
       "      <td>232.0</td>\n",
       "    </tr>\n",
       "    <tr>\n",
       "      <td>3</td>\n",
       "      <td>NaN</td>\n",
       "    </tr>\n",
       "    <tr>\n",
       "      <td>4</td>\n",
       "      <td>412.0</td>\n",
       "    </tr>\n",
       "    <tr>\n",
       "      <td>5</td>\n",
       "      <td>598.0</td>\n",
       "    </tr>\n",
       "    <tr>\n",
       "      <td>6</td>\n",
       "      <td>NaN</td>\n",
       "    </tr>\n",
       "    <tr>\n",
       "      <td>7</td>\n",
       "      <td>632.0</td>\n",
       "    </tr>\n",
       "  </tbody>\n",
       "</table>\n",
       "</div>"
      ],
      "text/plain": [
       "   total_ventes\n",
       "1         122.0\n",
       "2         232.0\n",
       "3           NaN\n",
       "4         412.0\n",
       "5         598.0\n",
       "6           NaN\n",
       "7         632.0"
      ]
     },
     "execution_count": 16,
     "metadata": {},
     "output_type": "execute_result"
    }
   ],
   "source": [
    "df.reindex(range(1, 8))"
   ]
  },
  {
   "cell_type": "code",
   "execution_count": 17,
   "metadata": {},
   "outputs": [
    {
     "data": {
      "text/html": [
       "<div>\n",
       "<style scoped>\n",
       "    .dataframe tbody tr th:only-of-type {\n",
       "        vertical-align: middle;\n",
       "    }\n",
       "\n",
       "    .dataframe tbody tr th {\n",
       "        vertical-align: top;\n",
       "    }\n",
       "\n",
       "    .dataframe thead th {\n",
       "        text-align: right;\n",
       "    }\n",
       "</style>\n",
       "<table border=\"1\" class=\"dataframe\">\n",
       "  <thead>\n",
       "    <tr style=\"text-align: right;\">\n",
       "      <th></th>\n",
       "      <th>total_ventes</th>\n",
       "    </tr>\n",
       "  </thead>\n",
       "  <tbody>\n",
       "    <tr>\n",
       "      <td>1</td>\n",
       "      <td>122</td>\n",
       "    </tr>\n",
       "    <tr>\n",
       "      <td>2</td>\n",
       "      <td>232</td>\n",
       "    </tr>\n",
       "    <tr>\n",
       "      <td>3</td>\n",
       "      <td>232</td>\n",
       "    </tr>\n",
       "    <tr>\n",
       "      <td>4</td>\n",
       "      <td>412</td>\n",
       "    </tr>\n",
       "    <tr>\n",
       "      <td>5</td>\n",
       "      <td>598</td>\n",
       "    </tr>\n",
       "    <tr>\n",
       "      <td>6</td>\n",
       "      <td>598</td>\n",
       "    </tr>\n",
       "    <tr>\n",
       "      <td>7</td>\n",
       "      <td>632</td>\n",
       "    </tr>\n",
       "  </tbody>\n",
       "</table>\n",
       "</div>"
      ],
      "text/plain": [
       "   total_ventes\n",
       "1           122\n",
       "2           232\n",
       "3           232\n",
       "4           412\n",
       "5           598\n",
       "6           598\n",
       "7           632"
      ]
     },
     "execution_count": 17,
     "metadata": {},
     "output_type": "execute_result"
    }
   ],
   "source": [
    "df.reindex(range(1, 8), method='ffill')  # compléter les NaN avec la valeur précédente"
   ]
  },
  {
   "cell_type": "markdown",
   "metadata": {},
   "source": [
    "(*Note: on aurait aussi pu utiliser reindex PUIS interpolate pour compléter les NaN*)"
   ]
  }
 ],
 "metadata": {
  "kernelspec": {
   "display_name": "Python 3",
   "language": "python",
   "name": "python3"
  },
  "language_info": {
   "codemirror_mode": {
    "name": "ipython",
    "version": 3
   },
   "file_extension": ".py",
   "mimetype": "text/x-python",
   "name": "python",
   "nbconvert_exporter": "python",
   "pygments_lexer": "ipython3",
   "version": "3.7.4"
  }
 },
 "nbformat": 4,
 "nbformat_minor": 4
}
